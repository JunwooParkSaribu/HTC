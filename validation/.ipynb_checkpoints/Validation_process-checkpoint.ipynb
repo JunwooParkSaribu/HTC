{
 "cells": [
  {
   "cell_type": "code",
   "execution_count": null,
   "id": "b3fc2512-5259-4d78-96c0-f0a995a6e526",
   "metadata": {},
   "outputs": [],
   "source": []
  },
  {
   "cell_type": "markdown",
   "id": "21ed0ba9-cf5e-42cf-8790-6f3efe4ac6ac",
   "metadata": {},
   "source": [
    "Since manual labelling of molecular trajectories in SPT is nearly impossible, we validated HTC on the simulated data mimicking the histone trajectories under fBm(fractional Brownian motion).</br>\n",
    "The simulation is performed with AnDi-dataset(/ref) which aims regeneration of particle trajectories under fBm.\n",
    "Below is the parameters used to simulate the histone trajectories.\n",
    "\n",
    "N = 1000\n",
    "D1 = 0.026um^2/sec\n",
    "D2 = 0.97um^2/sec\n",
    "alpha1 = 0.2\n",
    "alpha2 = 1.0\n",
    "T = {8, 16, 32, 64}\n",
    "\n",
    "For the validation of hybrid(immobile -> mobile / mobile -> immobile) trajectories, we concatenated N/2 trajectories from immboile->mobile and rest N/2 trajectories from mobile->immobile at T/2 second.\n",
    "The number of simulated trajectories for each T is 3000. (1000 trajectories for each class)\n",
    "\n",
    "The simulated data and its prediction result are available in data and result folder respectively."
   ]
  },
  {
   "cell_type": "code",
   "execution_count": null,
   "id": "c7366df5-9038-4216-b2e7-5e4d754f6d5b",
   "metadata": {},
   "outputs": [],
   "source": [
    "The heatmaps of classification results w.r.t different length of trajectory T."
   ]
  },
  {
   "cell_type": "code",
   "execution_count": null,
   "id": "5555c331-26c0-4a73-a404-0ccc3161f133",
   "metadata": {},
   "outputs": [],
   "source": []
  }
 ],
 "metadata": {
  "kernelspec": {
   "display_name": "Python 3 (ipykernel)",
   "language": "python",
   "name": "python3"
  },
  "language_info": {
   "codemirror_mode": {
    "name": "ipython",
    "version": 3
   },
   "file_extension": ".py",
   "mimetype": "text/x-python",
   "name": "python",
   "nbconvert_exporter": "python",
   "pygments_lexer": "ipython3",
   "version": "3.12.9"
  }
 },
 "nbformat": 4,
 "nbformat_minor": 5
}
